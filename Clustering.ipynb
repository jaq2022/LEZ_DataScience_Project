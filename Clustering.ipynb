{
 "cells": [
  {
   "cell_type": "code",
   "execution_count": 1,
   "id": "dc0b3d68-884b-44c5-8bc4-5e6ff32a269f",
   "metadata": {
    "tags": []
   },
   "outputs": [],
   "source": [
    "# Importamos librerias\n",
    "import numpy as np\n",
    "import pandas as pd\n",
    "import matplotlib.pyplot as plt"
   ]
  },
  {
   "cell_type": "code",
   "execution_count": 2,
   "id": "47ba75b4-8797-47d1-ab49-3dfa9663dba7",
   "metadata": {
    "tags": []
   },
   "outputs": [],
   "source": [
    "# Leemos los datos\n",
    "data = pd.read_csv(\"200espiras.csv\", usecols = [1, 2, 3])"
   ]
  },
  {
   "cell_type": "code",
   "execution_count": 3,
   "id": "82d1cdc8-94b1-409d-ad4d-f1f4256f6ed1",
   "metadata": {
    "tags": []
   },
   "outputs": [],
   "source": [
    "# Pivot del dataframe para que cada espira tenga su propia columna\n",
    "data_pivoted = data.pivot(columns = \"Espira\", values = \"Intensidad\", index = \"FechaHora\").reset_index()"
   ]
  },
  {
   "cell_type": "code",
   "execution_count": 5,
   "id": "8da4c9ab-a87b-470a-b11e-1ef3d8cd5485",
   "metadata": {
    "tags": []
   },
   "outputs": [],
   "source": [
    "# Buscamos espiras que tengan muchos valores consecutivos constantes\n",
    "column_to_remove = []\n",
    "\n",
    "for column in data_pivoted.columns:\n",
    "    k = 1\n",
    "    for i in range(1, len(data_pivoted)):\n",
    "        if data_pivoted[column].iloc[i] == data_pivoted[column].iloc[i - 1]:\n",
    "            k += 1\n",
    "        else:\n",
    "            k = 1\n",
    "        if k > 100:\n",
    "            column_to_remove.append(column)\n",
    "            break\n",
    "\n",
    "# Eliminamos dichas espiras\n",
    "data_pivoted.drop(columns = column_to_remove, inplace = True)"
   ]
  },
  {
   "cell_type": "code",
   "execution_count": 6,
   "id": "886d27a1-c83d-4a8b-8b72-59cfd7c97f37",
   "metadata": {
    "tags": []
   },
   "outputs": [],
   "source": [
    "# Buscamos espiras con varios nan seguidos\n",
    "column_to_remove = []\n",
    "\n",
    "for column in data_pivoted.columns:\n",
    "    if data_pivoted[column].isna().any():\n",
    "        column_to_remove.append(column)\n",
    "\n",
    "# Eliminamos dichas espiras\n",
    "data_pivoted.drop(columns = column_to_remove, inplace = True)"
   ]
  },
  {
   "cell_type": "code",
   "execution_count": 21,
   "id": "01155328-cbe5-4fa0-a6e8-aa2fda1347e2",
   "metadata": {
    "tags": []
   },
   "outputs": [],
   "source": [
    "# Seleccionamos las espiras de estaciones y tetuan y exportamos a csv\n",
    "data_pivoted.loc[:, [1014, 1046, 1047, 1050]].iloc[:-1, :].to_csv(\"Espiras_estaciones.csv\")\n",
    "data_pivoted.loc[:, [2034, 2035, 2036]].iloc[:-1, :].to_csv(\"Espiras_tetuan.csv\")"
   ]
  },
  {
   "cell_type": "code",
   "execution_count": 7,
   "id": "0e960b8a-6b2a-4cff-a063-1b3d2765eee5",
   "metadata": {
    "tags": []
   },
   "outputs": [],
   "source": [
    "# Transponemos el dataframe para tener las espiras en horizontal\n",
    "data_for_clust = data_pivoted.transpose()"
   ]
  },
  {
   "cell_type": "code",
   "execution_count": 8,
   "id": "caa612ba-2773-4767-b4dd-8484428f5245",
   "metadata": {
    "tags": []
   },
   "outputs": [],
   "source": [
    "# Quitamos la fila de la fecha y la columna que corresponde a 1 de enero de 2024\n",
    "data_for_clust = data_for_clust.iloc[1:, :-1]"
   ]
  },
  {
   "cell_type": "code",
   "execution_count": 8,
   "id": "d8e4a621-e78a-42ff-8e36-d7d50d4ba68a",
   "metadata": {
    "tags": []
   },
   "outputs": [],
   "source": [
    "import os\n",
    "\n",
    "# Set the environment variable before importing scikit-learn\n",
    "os.environ['OMP_NUM_THREADS'] = '1'"
   ]
  },
  {
   "cell_type": "code",
   "execution_count": 9,
   "id": "c5dac822-b2e1-4b72-ab94-86b057e3f6cf",
   "metadata": {
    "tags": []
   },
   "outputs": [],
   "source": [
    "from sklearn.cluster import KMeans\n",
    "\n",
    "# Probamos con todos los numeros posibles de clusters y guardamos la \"inertia\"\n",
    "sse = []\n",
    "for k in range(1, data_for_clust.shape[0]):\n",
    "    kmeans = KMeans(n_clusters = k, random_state = 0, n_init = \"auto\")\n",
    "    kmeans.fit(data_for_clust.values)\n",
    "    sse.append(kmeans.inertia_)"
   ]
  },
  {
   "cell_type": "code",
   "execution_count": 10,
   "id": "40fcd57a-7e12-40d6-93fb-d6e64b606763",
   "metadata": {
    "tags": []
   },
   "outputs": [
    {
     "data": {
      "image/png": "[encoded data removed]",
      "text/plain": [
       "<Figure size 640x480 with 1 Axes>"
      ]
     },
     "metadata": {},
     "output_type": "display_data"
    }
   ],
   "source": [
    "# Pintamos la inercia como funcion del numero de clusters\n",
    "plt.plot(range(1, data_for_clust.shape[0]), sse)\n",
    "plt.xlabel(\"Number of Clusters\")\n",
    "plt.ylabel(\"SSE\")\n",
    "plt.grid(True)\n",
    "plt.show(True)"
   ]
  },
  {
   "cell_type": "code",
   "execution_count": 11,
   "id": "5cd2a483-a020-42ae-9ac3-c72ae27304d4",
   "metadata": {
    "tags": []
   },
   "outputs": [],
   "source": [
    "from kneed import DataGenerator, KneeLocator\n",
    "\n",
    "# Obtenemos el punto de estabilizacion de la curva -> n clusters optimo\n",
    "kl = KneeLocator(range(1, data_for_clust.shape[0]), sse, curve = \"convex\", direction = \"decreasing\")\n",
    "k_opt = kl.elbow"
   ]
  },
  {
   "cell_type": "code",
   "execution_count": 12,
   "id": "02b27d45-f1bc-405b-b829-6fc807960218",
   "metadata": {
    "tags": []
   },
   "outputs": [
    {
     "data": {
      "text/html": [
       "<style>#sk-container-id-1 {color: black;}#sk-container-id-1 pre{padding: 0;}#sk-container-id-1 div.sk-toggleable {background-color: white;}#sk-container-id-1 label.sk-toggleable__label {cursor: pointer;display: block;width: 100%;margin-bottom: 0;padding: 0.3em;box-sizing: border-box;text-align: center;}#sk-container-id-1 label.sk-toggleable__label-arrow:before {content: \"▸\";float: left;margin-right: 0.25em;color: #696969;}#sk-container-id-1 label.sk-toggleable__label-arrow:hover:before {color: black;}#sk-container-id-1 div.sk-estimator:hover label.sk-toggleable__label-arrow:before {color: black;}#sk-container-id-1 div.sk-toggleable__content {max-height: 0;max-width: 0;overflow: hidden;text-align: left;background-color: #f0f8ff;}#sk-container-id-1 div.sk-toggleable__content pre {margin: 0.2em;color: black;border-radius: 0.25em;background-color: #f0f8ff;}#sk-container-id-1 input.sk-toggleable__control:checked~div.sk-toggleable__content {max-height: 200px;max-width: 100%;overflow: auto;}#sk-container-id-1 input.sk-toggleable__control:checked~label.sk-toggleable__label-arrow:before {content: \"▾\";}#sk-container-id-1 div.sk-estimator input.sk-toggleable__control:checked~label.sk-toggleable__label {background-color: #d4ebff;}#sk-container-id-1 div.sk-label input.sk-toggleable__control:checked~label.sk-toggleable__label {background-color: #d4ebff;}#sk-container-id-1 input.sk-hidden--visually {border: 0;clip: rect(1px 1px 1px 1px);clip: rect(1px, 1px, 1px, 1px);height: 1px;margin: -1px;overflow: hidden;padding: 0;position: absolute;width: 1px;}#sk-container-id-1 div.sk-estimator {font-family: monospace;background-color: #f0f8ff;border: 1px dotted black;border-radius: 0.25em;box-sizing: border-box;margin-bottom: 0.5em;}#sk-container-id-1 div.sk-estimator:hover {background-color: #d4ebff;}#sk-container-id-1 div.sk-parallel-item::after {content: \"\";width: 100%;border-bottom: 1px solid gray;flex-grow: 1;}#sk-container-id-1 div.sk-label:hover label.sk-toggleable__label {background-color: #d4ebff;}#sk-container-id-1 div.sk-serial::before {content: \"\";position: absolute;border-left: 1px solid gray;box-sizing: border-box;top: 0;bottom: 0;left: 50%;z-index: 0;}#sk-container-id-1 div.sk-serial {display: flex;flex-direction: column;align-items: center;background-color: white;padding-right: 0.2em;padding-left: 0.2em;position: relative;}#sk-container-id-1 div.sk-item {position: relative;z-index: 1;}#sk-container-id-1 div.sk-parallel {display: flex;align-items: stretch;justify-content: center;background-color: white;position: relative;}#sk-container-id-1 div.sk-item::before, #sk-container-id-1 div.sk-parallel-item::before {content: \"\";position: absolute;border-left: 1px solid gray;box-sizing: border-box;top: 0;bottom: 0;left: 50%;z-index: -1;}#sk-container-id-1 div.sk-parallel-item {display: flex;flex-direction: column;z-index: 1;position: relative;background-color: white;}#sk-container-id-1 div.sk-parallel-item:first-child::after {align-self: flex-end;width: 50%;}#sk-container-id-1 div.sk-parallel-item:last-child::after {align-self: flex-start;width: 50%;}#sk-container-id-1 div.sk-parallel-item:only-child::after {width: 0;}#sk-container-id-1 div.sk-dashed-wrapped {border: 1px dashed gray;margin: 0 0.4em 0.5em 0.4em;box-sizing: border-box;padding-bottom: 0.4em;background-color: white;}#sk-container-id-1 div.sk-label label {font-family: monospace;font-weight: bold;display: inline-block;line-height: 1.2em;}#sk-container-id-1 div.sk-label-container {text-align: center;}#sk-container-id-1 div.sk-container {/* jupyter's `normalize.less` sets `[hidden] { display: none; }` but bootstrap.min.css set `[hidden] { display: none !important; }` so we also need the `!important` here to be able to override the default hidden behavior on the sphinx rendered scikit-learn.org. See: https://github.com/scikit-learn/scikit-learn/issues/21755 */display: inline-block !important;position: relative;}#sk-container-id-1 div.sk-text-repr-fallback {display: none;}</style><div id=\"sk-container-id-1\" class=\"sk-top-container\"><div class=\"sk-text-repr-fallback\"><pre>KMeans(n_clusters=7, n_init=&#x27;auto&#x27;, random_state=0)</pre><b>In a Jupyter environment, please rerun this cell to show the HTML representation or trust the notebook. <br />On GitHub, the HTML representation is unable to render, please try loading this page with nbviewer.org.</b></div><div class=\"sk-container\" hidden><div class=\"sk-item\"><div class=\"sk-estimator sk-toggleable\"><input class=\"sk-toggleable__control sk-hidden--visually\" id=\"sk-estimator-id-1\" type=\"checkbox\" checked><label for=\"sk-estimator-id-1\" class=\"sk-toggleable__label sk-toggleable__label-arrow\">KMeans</label><div class=\"sk-toggleable__content\"><pre>KMeans(n_clusters=7, n_init=&#x27;auto&#x27;, random_state=0)</pre></div></div></div></div></div>"
      ],
      "text/plain": [
       "KMeans(n_clusters=7, n_init='auto', random_state=0)"
      ]
     },
     "execution_count": 12,
     "metadata": {},
     "output_type": "execute_result"
    }
   ],
   "source": [
    "# Realizamos el clustering con el valor optimo\n",
    "kmeans = KMeans(n_clusters = k_opt, random_state = 0, n_init = \"auto\")\n",
    "kmeans.fit(data_for_clust.values)"
   ]
  },
  {
   "cell_type": "code",
   "execution_count": 13,
   "id": "1d00101b-83e6-4ea5-868e-5ed2c2c34f9c",
   "metadata": {
    "tags": []
   },
   "outputs": [],
   "source": [
    "# Guardamos los centroides\n",
    "traf_cent = kmeans.cluster_centers_"
   ]
  },
  {
   "cell_type": "code",
   "execution_count": 14,
   "id": "47d714a0-20a1-415d-8540-1cbaf10c361c",
   "metadata": {
    "tags": []
   },
   "outputs": [],
   "source": [
    "# Convertimos a dataframe.\n",
    "traf_cent = pd.DataFrame(traf_cent)"
   ]
  },
  {
   "cell_type": "code",
   "execution_count": 17,
   "id": "d42cbca5-609d-4749-bb66-553d325d6e54",
   "metadata": {
    "tags": []
   },
   "outputs": [],
   "source": [
    "# Transponemos para guardar como predictores\n",
    "traf_cent = traf_cent.transpose()\n",
    "\n",
    "# Exportamos\n",
    "traf_cent.to_csv(\"Predictores_trafico.csv\")"
   ]
  }
 ],
 "metadata": {
  "kernelspec": {
   "display_name": "Python 3 (ipykernel)",
   "language": "python",
   "name": "python3"
  },
  "language_info": {
   "codemirror_mode": {
    "name": "ipython",
    "version": 3
   },
   "file_extension": ".py",
   "mimetype": "text/x-python",
   "name": "python",
   "nbconvert_exporter": "python",
   "pygments_lexer": "ipython3",
   "version": "3.11.5"
  }
 },
 "nbformat": 4,
 "nbformat_minor": 5
}
